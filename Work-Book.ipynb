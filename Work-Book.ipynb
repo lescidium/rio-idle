{
 "cells": [
  {
   "cell_type": "code",
   "execution_count": null,
   "metadata": {},
   "outputs": [],
   "source": [
    "import os\n",
    "import numpy as np\n",
    "import pandas as pd\n",
    "os.chdir('idle')\n",
    "from importlib import reload\n",
    "import shuhua\n",
    "import soyeon\n",
    "import yuqi\n",
    "import minnie\n",
    "import miyeon\n",
    "import soojin"
   ]
  },
  {
   "cell_type": "code",
   "execution_count": null,
   "metadata": {},
   "outputs": [],
   "source": [
    "#If you need the list of ALL TICKS, here you go:\n",
    "\n",
    "a = pd.read_excel('../docs/bigset.xlsx',index_col='SYM')\n",
    "ticks = list(a.index)"
   ]
  },
  {
   "cell_type": "code",
   "execution_count": null,
   "metadata": {},
   "outputs": [],
   "source": [
    "# reload(yuqi)\n",
    "# reload(minnie)\n",
    "# reload(soojin)\n",
    "\n",
    "#Making data sets for a ML Party\n",
    "\n",
    "TICK = 'MSFT'\n",
    "\n",
    "RATIOS = minnie.macro_scrape(TICK,'financial-ratios')\n",
    "\n",
    "income = minnie.macro_scrape(TICK,'income-statement')\n",
    "shares = income.loc['Shares Outstanding']*1000000\n",
    "cash = minnie.macro_scrape(TICK,'cash-flow-statement')\n",
    "\n",
    "\n",
    "ratios_calc = yuqi.calc_ratios(TICK,RATIOS,5,5)\n",
    "prices = minnie.macro_prices(TICK,shares)\n",
    "\n",
    "YRRAY = soojin.make_y(prices,income,cash,RATIOS)\n",
    "\n",
    "YRRAY[:5]"
   ]
  },
  {
   "cell_type": "code",
   "execution_count": null,
   "metadata": {},
   "outputs": [],
   "source": []
  }
 ],
 "metadata": {
  "kernelspec": {
   "display_name": "Python 3",
   "language": "python",
   "name": "python3"
  },
  "language_info": {
   "codemirror_mode": {
    "name": "ipython",
    "version": 3
   },
   "file_extension": ".py",
   "mimetype": "text/x-python",
   "name": "python",
   "nbconvert_exporter": "python",
   "pygments_lexer": "ipython3",
   "version": "3.8.5"
  }
 },
 "nbformat": 4,
 "nbformat_minor": 4
}
