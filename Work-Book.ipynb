{
 "cells": [
  {
   "cell_type": "code",
   "execution_count": 1,
   "metadata": {},
   "outputs": [],
   "source": [
    "from importlib import reload\n",
    "import os\n",
    "# import re\n",
    "# import numpy as np\n",
    "# import pandas as pd\n",
    "\n",
    "import yfinance as yf\n",
    "\n",
    "os.chdir('idle')\n",
    "import shuhua\n",
    "import soyeon\n",
    "import yuqi\n",
    "import minnie\n",
    "import miyeon\n",
    "import soojin"
   ]
  },
  {
   "cell_type": "code",
   "execution_count": 2,
   "metadata": {},
   "outputs": [
    {
     "name": "stdout",
     "output_type": "stream",
     "text": [
      "HTTPError (Probably 403 Access Denied). Trying again with User-Agent set to Mozilla\n",
      "HTTPError (Probably 403 Access Denied). Trying again with User-Agent set to Mozilla\n",
      "HTTPError (Probably 403 Access Denied). Trying again with User-Agent set to Mozilla\n",
      "HTTPError (Probably 403 Access Denied). Trying again with User-Agent set to Mozilla\n",
      "I believe Receiveable Turnover in FL is completely blank for this date range\n",
      "CPU times: total: 281 ms\n",
      "Wall time: 1.09 s\n"
     ]
    },
    {
     "data": {
      "text/plain": [
       "['FL',\n",
       " 16.941,\n",
       " -0.885,\n",
       " 9.425,\n",
       " -1.457,\n",
       " 18.115,\n",
       " -0.702,\n",
       " 1.509,\n",
       " -0.196,\n",
       " 4.423,\n",
       " 0.057,\n",
       " nan,\n",
       " 0,\n",
       " 0.062,\n",
       " 0.012,\n",
       " 0.073,\n",
       " 0.016]"
      ]
     },
     "execution_count": 2,
     "metadata": {},
     "output_type": "execute_result"
    }
   ],
   "source": [
    "%%time\n",
    "reload(minnie)\n",
    "\n",
    "tick = 'FL'\n",
    "\n",
    "inc = minnie.macro_scrape(tick,'income-statement')\n",
    "bal = minnie.macro_scrape(tick,'balance-sheet')\n",
    "cash = minnie.macro_scrape(tick,'cash-flow-statement')\n",
    "rats = minnie.macro_scrape(tick,'financial-ratios')\n",
    "results = yuqi.calc_ratios(tick,rats,0,7)\n",
    "results"
   ]
  },
  {
   "cell_type": "code",
   "execution_count": 3,
   "metadata": {},
   "outputs": [
    {
     "name": "stdout",
     "output_type": "stream",
     "text": [
      "CPU times: total: 219 ms\n",
      "Wall time: 1.17 s\n"
     ]
    }
   ],
   "source": [
    "%%time\n",
    "\n",
    "t='FL'\n",
    "stocky = yf.Ticker(t)\n",
    "\n",
    "###4 API Calls, 2.01s###\n",
    "info = stocky.info\n",
    "inc = stocky.financials.fillna(0)\n",
    "bal = stocky.balance_sheet.fillna(0)\n",
    "cash = stocky.cashflow.fillna(0)"
   ]
  },
  {
   "cell_type": "code",
   "execution_count": 4,
   "metadata": {},
   "outputs": [],
   "source": [
    "cap = info['marketCap']\n",
    "price = info['currentPrice']\n",
    "shares = info['sharesOutstanding']\n",
    "PE = info['trailingPE']\n",
    "# growth = info['earningsGrowth'] #No longer in api call\n",
    "\n",
    "# def pull_long():\n",
    "###INCOME###\n",
    "rev = inc.loc['Total Revenue'][::-1]\n",
    "netinc = inc.loc['Net Income'][::-1]\n",
    "###BALANCE###\n",
    "lia = bal.loc['Total Liabilities Net Minority Interest'][::-1]\n",
    "ass = bal.loc['Total Assets'][::-1]\n",
    "Clia = bal.loc['Current Liabilities'][::-1]\n",
    "Cass = bal.loc['Total Assets'][::-1]\n",
    "try:\n",
    "    deb = bal.loc['Long Term Debt'][::-1] + bal.loc['Short Long Term Debt'][::-1]\n",
    "    deb.name = 'Total Debt'\n",
    "except KeyError:\n",
    "    deb = bal.loc['Long Term Debt'][::-1]\n",
    "\n",
    "#Include Long Term Capital Lease Obligations LATER\n",
    "equ = bal.loc['Stockholders Equity'][::-1]\n",
    "###CASH###\n",
    "try:\n",
    "    fcf = cash.loc['Total Cash From Operating Activities'][::-1] + cash.loc['Capital Expenditures'][::-1]\n",
    "    fcf.name = 'Free Cash Flow'\n",
    "except KeyError:\n",
    "    fcf = cash.loc['Free Cash Flow'][::-1]\n",
    "# def calc_met():\n",
    "###CALC###\n",
    "inv = equ+deb\n",
    "roa = netinc/ass\n",
    "roa.name = 'Return on Asset'\n",
    "roe = netinc/equ\n",
    "roe.name = 'Return on Equity'\n",
    "roi = netinc/inv\n",
    "roi.name = 'Return on Invested Capital'\n",
    "Aass=[]\n",
    "for i in range(len(ass)):\n",
    "    if i == len(ass)-1:\n",
    "        Aass.append(ass[i])\n",
    "    else:\n",
    "        Aass.append((ass[i]+ass[i+1])/2)\n",
    "ATO = rev/Aass\n",
    "ATO.name = 'Asset Turnover'\n",
    "DE = deb/equ\n",
    "DE.name = 'Debt to Equity'\n",
    "DA = deb/ass\n",
    "DA.name = 'Debt to Asset'\n",
    "DC = deb/(equ+deb)\n",
    "DC.name = 'Debt to Invested Capital'"
   ]
  },
  {
   "cell_type": "code",
   "execution_count": 5,
   "metadata": {},
   "outputs": [
    {
     "data": {
      "text/plain": [
       "<BarContainer object of 4 artists>"
      ]
     },
     "execution_count": 5,
     "metadata": {},
     "output_type": "execute_result"
    },
    {
     "data": {
      "image/png": "[encoded data removed]",
      "text/plain": [
       "<Figure size 864x864 with 8 Axes>"
      ]
     },
     "metadata": {
      "needs_background": "light"
     },
     "output_type": "display_data"
    }
   ],
   "source": [
    "import matplotlib.pyplot as plt\n",
    "\n",
    "fig = plt.figure(figsize=(12,12))\n",
    "ax1 = plt.subplot(3,3,1)\n",
    "ax2 = plt.subplot(3,3,2)\n",
    "ax3 = plt.subplot(3,3,3)\n",
    "ax4 = plt.subplot(3,2,3)\n",
    "ax5 = plt.subplot(3,2,4)\n",
    "#ax6 = plt.subplot(3,3,6)\n",
    "ax7 = plt.subplot(3,3,7)\n",
    "ax8 = plt.subplot(3,3,8)\n",
    "ax9 = plt.subplot(3,3,9)\n",
    "prof = [[ax1,roa],[ax2,roe],[ax3,roi]]\n",
    "risk = [[ax7,DE],[ax8,DA],[ax9,DC]]\n",
    "\n",
    "for p in prof:\n",
    "    years=[]\n",
    "    for l in list(p[1].index):\n",
    "        years.append(str(l.year))\n",
    "    money = list(p[1])\n",
    "    p[0].set_title(p[1].name)\n",
    "    p[0].bar(years,money,color='red')\n",
    "    \n",
    "for r in risk:\n",
    "    years=[]\n",
    "    for l in list(r[1].index):\n",
    "        years.append(str(l.year))\n",
    "    money = list(r[1])\n",
    "    r[0].set_title(r[1].name)\n",
    "    r[0].bar(years,money)\n",
    "    \n",
    "years=[]\n",
    "for l in list(fcf.index):\n",
    "    years.append(str(l.year))\n",
    "money = list(fcf)\n",
    "ax4.set_title(fcf.name)\n",
    "ax4.bar(years,money,color='green')\n",
    "\n",
    "years=[]\n",
    "for l in list(ATO.index):\n",
    "    years.append(str(l.year))\n",
    "money = list(ATO)\n",
    "ax5.set_title(ATO.name)\n",
    "ax5.bar(years,money,color='orange')"
   ]
  },
  {
   "cell_type": "code",
   "execution_count": null,
   "metadata": {},
   "outputs": [],
   "source": [
    "low = fcf.mean()*20 #5%\n",
    "mid = fcf.mean()*25 #Equivalent to 4% discount\n",
    "high = fcf.mean()*30 #3%\n",
    "yuqi.num2MBT(low),yuqi.num2MBT(mid),yuqi.num2MBT(high),yuqi.num2MBT(cap)"
   ]
  },
  {
   "cell_type": "code",
   "execution_count": null,
   "metadata": {},
   "outputs": [],
   "source": [
    "def stochastic(res):\n",
    "    if res == 'dy':\n",
    "        hist = stocky.history(period='1mo',interval='1d')\n",
    "    elif res == 'wk':\n",
    "        hist = stocky.history(period='6mo',interval='1wk')\n",
    "    elif res == 'mo':\n",
    "        hist = stocky.history(period='2y',interval='1mo')\n",
    "    else:\n",
    "        print('Wrong format')\n",
    "        return 0\n",
    "    hist = hist.dropna()\n",
    "    C = hist['Close'][hist.shape[0]-1]\n",
    "    H = max(hist[-14:]['High'])\n",
    "    L = min(hist[-14:]['Low'])\n",
    "\n",
    "    stoch = 100*(C-L)/(H-L)\n",
    "    return stoch"
   ]
  },
  {
   "cell_type": "code",
   "execution_count": null,
   "metadata": {},
   "outputs": [],
   "source": [
    "stochastic('dy'),stochastic('wk'),stochastic('mo')"
   ]
  },
  {
   "cell_type": "code",
   "execution_count": null,
   "metadata": {},
   "outputs": [],
   "source": [
    "def plotty(data,ax):\n",
    "    fig = plt.figure()\n",
    "    #ax = fig.add_axes([0,0,1,1])\n",
    "    years=[]\n",
    "    for l in list(data.index):\n",
    "        years.append(str(l.year))\n",
    "    money = list(data)\n",
    "    ax.set_title(data.name)\n",
    "    ax.bar(years,money)\n",
    "    return ax"
   ]
  },
  {
   "cell_type": "code",
   "execution_count": null,
   "metadata": {},
   "outputs": [],
   "source": [
    "def movers():\n",
    "    soup = minnie.scrape('https://dataroma.com/m/allact.php?typ=a')\n",
    "    triplets = re.compile('(-?\\d+.\\d+)%\\\\nChange to portfolio: (\\d+.\\d+)%\">(\\w+\\.?\\w+)<')\n",
    "    result = minnie.scout(soup,'td',output=False)\n",
    "    dat = triplets.findall(str(result))\n",
    "    dat = np.array(dat)\n",
    "    dat_sort = dat[np.argsort(dat[:,2])]\n",
    "    ticks=[]\n",
    "    prev = [0,0,0]\n",
    "    for i in dat_sort:\n",
    "        if i[2] != prev[2]:\n",
    "            ticks.append(i[2])\n",
    "        prev = i\n",
    "\n",
    "    listy=[]\n",
    "    df = pd.DataFrame(dat_sort,index=c[:,2],columns=['Buy/Sell','Change in Portfolio','Symbol'])\n",
    "    for t in ticks:\n",
    "        s_df = df.loc[t]\n",
    "        if len(s_df.shape) == 2:\n",
    "            listy.append([t,s_df.shape[0]])\n",
    "        else:\n",
    "            listy.append([t,1])\n",
    "\n",
    "    fin_df = pd.DataFrame(listy)\n",
    "    fin_df = fin_df.sort_values(by=1,ascending=False)\n",
    "    return fin_df, df\n",
    "\n",
    "sort, data = movers()\n",
    "\n",
    "data.to_excel('data.xlsx')\n",
    "sort.to_excel('sorted.xlsx')"
   ]
  },
  {
   "cell_type": "code",
   "execution_count": null,
   "metadata": {},
   "outputs": [],
   "source": [
    "#If you need the list of ALL TICKS, here you go:\n",
    "\n",
    "a = pd.read_excel('../docs/bigset.xlsx',index_col='SYM')\n",
    "ticks = list(a.index)"
   ]
  },
  {
   "cell_type": "code",
   "execution_count": null,
   "metadata": {},
   "outputs": [],
   "source": [
    "# reload(yuqi)\n",
    "# reload(minnie)\n",
    "# reload(soojin)\n",
    "\n",
    "#Making data sets for a ML Party\n",
    "\n",
    "TICK = 'GOLD'\n",
    "\n",
    "RATIOS = minnie.macro_scrape(TICK,'financial-ratios')\n",
    "\n",
    "income = minnie.macro_scrape(TICK,'income-statement')\n",
    "shares = income.loc['Shares Outstanding']*1000000\n",
    "cash = minnie.macro_scrape(TICK,'cash-flow-statement')\n",
    "\n",
    "ratios_calc = yuqi.calc_ratios(TICK,RATIOS,0,5)\n",
    "prices = minnie.macro_prices(TICK,shares)\n",
    "\n",
    "YRRAY = soojin.make_y(prices,income,cash,RATIOS)\n",
    "\n",
    "YRRAY"
   ]
  },
  {
   "cell_type": "code",
   "execution_count": null,
   "metadata": {},
   "outputs": [],
   "source": [
    "reload(yuqi)\n",
    "reload(minnie)\n",
    "\n",
    "import time\n",
    "start = time.time()\n",
    "steps = []\n",
    "i=0\n",
    "\n",
    "stack=[]\n",
    "for t in ticks:\n",
    "    #print(t)\n",
    "\n",
    "    cash = minnie.macro_scrape(t,'cash-flow-statement')\n",
    "    income = minnie.macro_scrape(t,'income-statement')\n",
    "\n",
    "    try:\n",
    "        net = income.loc['Net Income'][:5]*1000000\n",
    "        net_avg = yuqi.list_avg(net)\n",
    "        net_s, net_i = soojin.linfit(net)\n",
    "        net_trend = net_s/net_avg\n",
    "\n",
    "        ocf = cash.loc['Cash Flow From Operating Activities']*1000000\n",
    "        capex = cash.loc['Net Change In Property, Plant, And Equipment']*1000000\n",
    "        FCF = ocf.add(capex)[:5]\n",
    "\n",
    "        fcf_avg = yuqi.list_avg(FCF)\n",
    "\n",
    "        try:\n",
    "            fcf_s, fcf_i = soojin.linfit(FCF)\n",
    "            fcf_trend = fcf_s/fcf_avg\n",
    "        except TypeError:\n",
    "            print(f\"{t} is fucked for FCF\")\n",
    "            fcf_trend = np.nan\n",
    "    \n",
    "    except AttributeError:\n",
    "        fcf_avg = np.nan\n",
    "        fcf_trend = np.nan\n",
    "        net_avg = np.nan\n",
    "        net_trend = np.nan\n",
    "    \n",
    "    dat = (t,fcf_avg,fcf_trend,net_avg,net_trend)\n",
    "    \n",
    "    stack.append(dat)\n",
    "    \n",
    "    steps = yuqi.timer(i, len(ticks), start, steps)\n",
    "    i+=1\n",
    "\n",
    "\n",
    "#yuqi.num2MBT(fcf_avg), yuqi.num2perc(fcf_s/fcf_avg), yuqi.num2MBT(net_avg), yuqi.num2perc(net_s/net_avg)"
   ]
  }
 ],
 "metadata": {
  "kernelspec": {
   "display_name": "Python 3 (ipykernel)",
   "language": "python",
   "name": "python3"
  },
  "language_info": {
   "codemirror_mode": {
    "name": "ipython",
    "version": 3
   },
   "file_extension": ".py",
   "mimetype": "text/x-python",
   "name": "python",
   "nbconvert_exporter": "python",
   "pygments_lexer": "ipython3",
   "version": "3.9.10"
  }
 },
 "nbformat": 4,
 "nbformat_minor": 4
}
